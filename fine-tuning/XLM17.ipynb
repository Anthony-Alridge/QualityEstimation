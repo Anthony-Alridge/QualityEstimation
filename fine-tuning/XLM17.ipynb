{
  "nbformat": 4,
  "nbformat_minor": 0,
  "metadata": {
    "colab": {
      "name": "XLM17.ipynb",
      "provenance": [],
      "collapsed_sections": [],
      "toc_visible": true,
      "machine_shape": "hm"
    },
    "kernelspec": {
      "name": "python3",
      "display_name": "Python 3"
    },
    "accelerator": "GPU",
    "widgets": {
      "application/vnd.jupyter.widget-state+json": {
        "01b80b7d4ff5499791957043380bf8bb": {
          "model_module": "@jupyter-widgets/controls",
          "model_name": "HBoxModel",
          "state": {
            "_view_name": "HBoxView",
            "_dom_classes": [],
            "_model_name": "HBoxModel",
            "_view_module": "@jupyter-widgets/controls",
            "_model_module_version": "1.5.0",
            "_view_count": null,
            "_view_module_version": "1.5.0",
            "box_style": "",
            "layout": "IPY_MODEL_02b72780461c419d89bfbe9a111a27c5",
            "_model_module": "@jupyter-widgets/controls",
            "children": [
              "IPY_MODEL_1ff0049146ab493c990321c4046df50b",
              "IPY_MODEL_1b5f8b8504ef4564ba4fbcca225c15dc"
            ]
          }
        },
        "02b72780461c419d89bfbe9a111a27c5": {
          "model_module": "@jupyter-widgets/base",
          "model_name": "LayoutModel",
          "state": {
            "_view_name": "LayoutView",
            "grid_template_rows": null,
            "right": null,
            "justify_content": null,
            "_view_module": "@jupyter-widgets/base",
            "overflow": null,
            "_model_module_version": "1.2.0",
            "_view_count": null,
            "flex_flow": null,
            "width": null,
            "min_width": null,
            "border": null,
            "align_items": null,
            "bottom": null,
            "_model_module": "@jupyter-widgets/base",
            "top": null,
            "grid_column": null,
            "overflow_y": null,
            "overflow_x": null,
            "grid_auto_flow": null,
            "grid_area": null,
            "grid_template_columns": null,
            "flex": null,
            "_model_name": "LayoutModel",
            "justify_items": null,
            "grid_row": null,
            "max_height": null,
            "align_content": null,
            "visibility": null,
            "align_self": null,
            "height": null,
            "min_height": null,
            "padding": null,
            "grid_auto_rows": null,
            "grid_gap": null,
            "max_width": null,
            "order": null,
            "_view_module_version": "1.2.0",
            "grid_template_areas": null,
            "object_position": null,
            "object_fit": null,
            "grid_auto_columns": null,
            "margin": null,
            "display": null,
            "left": null
          }
        },
        "1ff0049146ab493c990321c4046df50b": {
          "model_module": "@jupyter-widgets/controls",
          "model_name": "IntProgressModel",
          "state": {
            "_view_name": "ProgressView",
            "style": "IPY_MODEL_7995f4c85e624391b1cde25817c3cebf",
            "_dom_classes": [],
            "description": "Downloading",
            "_model_name": "IntProgressModel",
            "bar_style": "success",
            "max": 5600090,
            "_view_module": "@jupyter-widgets/controls",
            "_model_module_version": "1.5.0",
            "value": 5600090,
            "_view_count": null,
            "_view_module_version": "1.5.0",
            "orientation": "horizontal",
            "min": 0,
            "description_tooltip": null,
            "_model_module": "@jupyter-widgets/controls",
            "layout": "IPY_MODEL_d689f373ca8d41729ad72dbea4f1203a"
          }
        },
        "1b5f8b8504ef4564ba4fbcca225c15dc": {
          "model_module": "@jupyter-widgets/controls",
          "model_name": "HTMLModel",
          "state": {
            "_view_name": "HTMLView",
            "style": "IPY_MODEL_cd408c3cd21a43e28d777f12508777c5",
            "_dom_classes": [],
            "description": "",
            "_model_name": "HTMLModel",
            "placeholder": "​",
            "_view_module": "@jupyter-widgets/controls",
            "_model_module_version": "1.5.0",
            "value": "100% 5.60M/5.60M [00:00&lt;00:00, 31.6MB/s]",
            "_view_count": null,
            "_view_module_version": "1.5.0",
            "description_tooltip": null,
            "_model_module": "@jupyter-widgets/controls",
            "layout": "IPY_MODEL_aabc12feed8847f69f1e6b9a5483ad66"
          }
        },
        "7995f4c85e624391b1cde25817c3cebf": {
          "model_module": "@jupyter-widgets/controls",
          "model_name": "ProgressStyleModel",
          "state": {
            "_view_name": "StyleView",
            "_model_name": "ProgressStyleModel",
            "description_width": "initial",
            "_view_module": "@jupyter-widgets/base",
            "_model_module_version": "1.5.0",
            "_view_count": null,
            "_view_module_version": "1.2.0",
            "bar_color": null,
            "_model_module": "@jupyter-widgets/controls"
          }
        },
        "d689f373ca8d41729ad72dbea4f1203a": {
          "model_module": "@jupyter-widgets/base",
          "model_name": "LayoutModel",
          "state": {
            "_view_name": "LayoutView",
            "grid_template_rows": null,
            "right": null,
            "justify_content": null,
            "_view_module": "@jupyter-widgets/base",
            "overflow": null,
            "_model_module_version": "1.2.0",
            "_view_count": null,
            "flex_flow": null,
            "width": null,
            "min_width": null,
            "border": null,
            "align_items": null,
            "bottom": null,
            "_model_module": "@jupyter-widgets/base",
            "top": null,
            "grid_column": null,
            "overflow_y": null,
            "overflow_x": null,
            "grid_auto_flow": null,
            "grid_area": null,
            "grid_template_columns": null,
            "flex": null,
            "_model_name": "LayoutModel",
            "justify_items": null,
            "grid_row": null,
            "max_height": null,
            "align_content": null,
            "visibility": null,
            "align_self": null,
            "height": null,
            "min_height": null,
            "padding": null,
            "grid_auto_rows": null,
            "grid_gap": null,
            "max_width": null,
            "order": null,
            "_view_module_version": "1.2.0",
            "grid_template_areas": null,
            "object_position": null,
            "object_fit": null,
            "grid_auto_columns": null,
            "margin": null,
            "display": null,
            "left": null
          }
        },
        "cd408c3cd21a43e28d777f12508777c5": {
          "model_module": "@jupyter-widgets/controls",
          "model_name": "DescriptionStyleModel",
          "state": {
            "_view_name": "StyleView",
            "_model_name": "DescriptionStyleModel",
            "description_width": "",
            "_view_module": "@jupyter-widgets/base",
            "_model_module_version": "1.5.0",
            "_view_count": null,
            "_view_module_version": "1.2.0",
            "_model_module": "@jupyter-widgets/controls"
          }
        },
        "aabc12feed8847f69f1e6b9a5483ad66": {
          "model_module": "@jupyter-widgets/base",
          "model_name": "LayoutModel",
          "state": {
            "_view_name": "LayoutView",
            "grid_template_rows": null,
            "right": null,
            "justify_content": null,
            "_view_module": "@jupyter-widgets/base",
            "overflow": null,
            "_model_module_version": "1.2.0",
            "_view_count": null,
            "flex_flow": null,
            "width": null,
            "min_width": null,
            "border": null,
            "align_items": null,
            "bottom": null,
            "_model_module": "@jupyter-widgets/base",
            "top": null,
            "grid_column": null,
            "overflow_y": null,
            "overflow_x": null,
            "grid_auto_flow": null,
            "grid_area": null,
            "grid_template_columns": null,
            "flex": null,
            "_model_name": "LayoutModel",
            "justify_items": null,
            "grid_row": null,
            "max_height": null,
            "align_content": null,
            "visibility": null,
            "align_self": null,
            "height": null,
            "min_height": null,
            "padding": null,
            "grid_auto_rows": null,
            "grid_gap": null,
            "max_width": null,
            "order": null,
            "_view_module_version": "1.2.0",
            "grid_template_areas": null,
            "object_position": null,
            "object_fit": null,
            "grid_auto_columns": null,
            "margin": null,
            "display": null,
            "left": null
          }
        },
        "32115904bc74425bbec521a97624a4ba": {
          "model_module": "@jupyter-widgets/controls",
          "model_name": "HBoxModel",
          "state": {
            "_view_name": "HBoxView",
            "_dom_classes": [],
            "_model_name": "HBoxModel",
            "_view_module": "@jupyter-widgets/controls",
            "_model_module_version": "1.5.0",
            "_view_count": null,
            "_view_module_version": "1.5.0",
            "box_style": "",
            "layout": "IPY_MODEL_2c6f425df79a45209f5d8e04977f7b56",
            "_model_module": "@jupyter-widgets/controls",
            "children": [
              "IPY_MODEL_f3b341a46e0d48158b18d46be20d623b",
              "IPY_MODEL_256db9efd48342f19bdd67a3bb9e7adf"
            ]
          }
        },
        "2c6f425df79a45209f5d8e04977f7b56": {
          "model_module": "@jupyter-widgets/base",
          "model_name": "LayoutModel",
          "state": {
            "_view_name": "LayoutView",
            "grid_template_rows": null,
            "right": null,
            "justify_content": null,
            "_view_module": "@jupyter-widgets/base",
            "overflow": null,
            "_model_module_version": "1.2.0",
            "_view_count": null,
            "flex_flow": null,
            "width": null,
            "min_width": null,
            "border": null,
            "align_items": null,
            "bottom": null,
            "_model_module": "@jupyter-widgets/base",
            "top": null,
            "grid_column": null,
            "overflow_y": null,
            "overflow_x": null,
            "grid_auto_flow": null,
            "grid_area": null,
            "grid_template_columns": null,
            "flex": null,
            "_model_name": "LayoutModel",
            "justify_items": null,
            "grid_row": null,
            "max_height": null,
            "align_content": null,
            "visibility": null,
            "align_self": null,
            "height": null,
            "min_height": null,
            "padding": null,
            "grid_auto_rows": null,
            "grid_gap": null,
            "max_width": null,
            "order": null,
            "_view_module_version": "1.2.0",
            "grid_template_areas": null,
            "object_position": null,
            "object_fit": null,
            "grid_auto_columns": null,
            "margin": null,
            "display": null,
            "left": null
          }
        },
        "f3b341a46e0d48158b18d46be20d623b": {
          "model_module": "@jupyter-widgets/controls",
          "model_name": "IntProgressModel",
          "state": {
            "_view_name": "ProgressView",
            "style": "IPY_MODEL_f9aad786b9644462acf6b5a400c61ec3",
            "_dom_classes": [],
            "description": "Downloading",
            "_model_name": "IntProgressModel",
            "bar_style": "success",
            "max": 2986457,
            "_view_module": "@jupyter-widgets/controls",
            "_model_module_version": "1.5.0",
            "value": 2986457,
            "_view_count": null,
            "_view_module_version": "1.5.0",
            "orientation": "horizontal",
            "min": 0,
            "description_tooltip": null,
            "_model_module": "@jupyter-widgets/controls",
            "layout": "IPY_MODEL_bfa1ff71c4684b3fa3ca59a662a6c696"
          }
        },
        "256db9efd48342f19bdd67a3bb9e7adf": {
          "model_module": "@jupyter-widgets/controls",
          "model_name": "HTMLModel",
          "state": {
            "_view_name": "HTMLView",
            "style": "IPY_MODEL_bfb29097112e4c9e954768a3451fbe00",
            "_dom_classes": [],
            "description": "",
            "_model_name": "HTMLModel",
            "placeholder": "​",
            "_view_module": "@jupyter-widgets/controls",
            "_model_module_version": "1.5.0",
            "value": "100% 2.99M/2.99M [00:00&lt;00:00, 15.0MB/s]",
            "_view_count": null,
            "_view_module_version": "1.5.0",
            "description_tooltip": null,
            "_model_module": "@jupyter-widgets/controls",
            "layout": "IPY_MODEL_31a3916318f64f75bb50c6fa98b75aa2"
          }
        },
        "f9aad786b9644462acf6b5a400c61ec3": {
          "model_module": "@jupyter-widgets/controls",
          "model_name": "ProgressStyleModel",
          "state": {
            "_view_name": "StyleView",
            "_model_name": "ProgressStyleModel",
            "description_width": "initial",
            "_view_module": "@jupyter-widgets/base",
            "_model_module_version": "1.5.0",
            "_view_count": null,
            "_view_module_version": "1.2.0",
            "bar_color": null,
            "_model_module": "@jupyter-widgets/controls"
          }
        },
        "bfa1ff71c4684b3fa3ca59a662a6c696": {
          "model_module": "@jupyter-widgets/base",
          "model_name": "LayoutModel",
          "state": {
            "_view_name": "LayoutView",
            "grid_template_rows": null,
            "right": null,
            "justify_content": null,
            "_view_module": "@jupyter-widgets/base",
            "overflow": null,
            "_model_module_version": "1.2.0",
            "_view_count": null,
            "flex_flow": null,
            "width": null,
            "min_width": null,
            "border": null,
            "align_items": null,
            "bottom": null,
            "_model_module": "@jupyter-widgets/base",
            "top": null,
            "grid_column": null,
            "overflow_y": null,
            "overflow_x": null,
            "grid_auto_flow": null,
            "grid_area": null,
            "grid_template_columns": null,
            "flex": null,
            "_model_name": "LayoutModel",
            "justify_items": null,
            "grid_row": null,
            "max_height": null,
            "align_content": null,
            "visibility": null,
            "align_self": null,
            "height": null,
            "min_height": null,
            "padding": null,
            "grid_auto_rows": null,
            "grid_gap": null,
            "max_width": null,
            "order": null,
            "_view_module_version": "1.2.0",
            "grid_template_areas": null,
            "object_position": null,
            "object_fit": null,
            "grid_auto_columns": null,
            "margin": null,
            "display": null,
            "left": null
          }
        },
        "bfb29097112e4c9e954768a3451fbe00": {
          "model_module": "@jupyter-widgets/controls",
          "model_name": "DescriptionStyleModel",
          "state": {
            "_view_name": "StyleView",
            "_model_name": "DescriptionStyleModel",
            "description_width": "",
            "_view_module": "@jupyter-widgets/base",
            "_model_module_version": "1.5.0",
            "_view_count": null,
            "_view_module_version": "1.2.0",
            "_model_module": "@jupyter-widgets/controls"
          }
        },
        "31a3916318f64f75bb50c6fa98b75aa2": {
          "model_module": "@jupyter-widgets/base",
          "model_name": "LayoutModel",
          "state": {
            "_view_name": "LayoutView",
            "grid_template_rows": null,
            "right": null,
            "justify_content": null,
            "_view_module": "@jupyter-widgets/base",
            "overflow": null,
            "_model_module_version": "1.2.0",
            "_view_count": null,
            "flex_flow": null,
            "width": null,
            "min_width": null,
            "border": null,
            "align_items": null,
            "bottom": null,
            "_model_module": "@jupyter-widgets/base",
            "top": null,
            "grid_column": null,
            "overflow_y": null,
            "overflow_x": null,
            "grid_auto_flow": null,
            "grid_area": null,
            "grid_template_columns": null,
            "flex": null,
            "_model_name": "LayoutModel",
            "justify_items": null,
            "grid_row": null,
            "max_height": null,
            "align_content": null,
            "visibility": null,
            "align_self": null,
            "height": null,
            "min_height": null,
            "padding": null,
            "grid_auto_rows": null,
            "grid_gap": null,
            "max_width": null,
            "order": null,
            "_view_module_version": "1.2.0",
            "grid_template_areas": null,
            "object_position": null,
            "object_fit": null,
            "grid_auto_columns": null,
            "margin": null,
            "display": null,
            "left": null
          }
        },
        "e423be179c4b46c181a6b7c4b9b11205": {
          "model_module": "@jupyter-widgets/controls",
          "model_name": "HBoxModel",
          "state": {
            "_view_name": "HBoxView",
            "_dom_classes": [],
            "_model_name": "HBoxModel",
            "_view_module": "@jupyter-widgets/controls",
            "_model_module_version": "1.5.0",
            "_view_count": null,
            "_view_module_version": "1.5.0",
            "box_style": "",
            "layout": "IPY_MODEL_84c9c2955b8540c69d0363679b7824d1",
            "_model_module": "@jupyter-widgets/controls",
            "children": [
              "IPY_MODEL_0afac4e810ce4280afb808ae5e968e4d",
              "IPY_MODEL_2521e601cc1b46cfade2f8a2d063f7dd"
            ]
          }
        },
        "84c9c2955b8540c69d0363679b7824d1": {
          "model_module": "@jupyter-widgets/base",
          "model_name": "LayoutModel",
          "state": {
            "_view_name": "LayoutView",
            "grid_template_rows": null,
            "right": null,
            "justify_content": null,
            "_view_module": "@jupyter-widgets/base",
            "overflow": null,
            "_model_module_version": "1.2.0",
            "_view_count": null,
            "flex_flow": null,
            "width": null,
            "min_width": null,
            "border": null,
            "align_items": null,
            "bottom": null,
            "_model_module": "@jupyter-widgets/base",
            "top": null,
            "grid_column": null,
            "overflow_y": null,
            "overflow_x": null,
            "grid_auto_flow": null,
            "grid_area": null,
            "grid_template_columns": null,
            "flex": null,
            "_model_name": "LayoutModel",
            "justify_items": null,
            "grid_row": null,
            "max_height": null,
            "align_content": null,
            "visibility": null,
            "align_self": null,
            "height": null,
            "min_height": null,
            "padding": null,
            "grid_auto_rows": null,
            "grid_gap": null,
            "max_width": null,
            "order": null,
            "_view_module_version": "1.2.0",
            "grid_template_areas": null,
            "object_position": null,
            "object_fit": null,
            "grid_auto_columns": null,
            "margin": null,
            "display": null,
            "left": null
          }
        },
        "0afac4e810ce4280afb808ae5e968e4d": {
          "model_module": "@jupyter-widgets/controls",
          "model_name": "IntProgressModel",
          "state": {
            "_view_name": "ProgressView",
            "style": "IPY_MODEL_a5d1ff76531b407bacdcf036cfe87542",
            "_dom_classes": [],
            "description": "Downloading",
            "_model_name": "IntProgressModel",
            "bar_style": "success",
            "max": 10380,
            "_view_module": "@jupyter-widgets/controls",
            "_model_module_version": "1.5.0",
            "value": 10380,
            "_view_count": null,
            "_view_module_version": "1.5.0",
            "orientation": "horizontal",
            "min": 0,
            "description_tooltip": null,
            "_model_module": "@jupyter-widgets/controls",
            "layout": "IPY_MODEL_75ceb6f8f64e41f2a5da4e66632a9eaa"
          }
        },
        "2521e601cc1b46cfade2f8a2d063f7dd": {
          "model_module": "@jupyter-widgets/controls",
          "model_name": "HTMLModel",
          "state": {
            "_view_name": "HTMLView",
            "style": "IPY_MODEL_edc15df22a3b4143a9aa8e449e7f6cad",
            "_dom_classes": [],
            "description": "",
            "_model_name": "HTMLModel",
            "placeholder": "​",
            "_view_module": "@jupyter-widgets/controls",
            "_model_module_version": "1.5.0",
            "value": "100% 10.4k/10.4k [00:00&lt;00:00, 338kB/s]",
            "_view_count": null,
            "_view_module_version": "1.5.0",
            "description_tooltip": null,
            "_model_module": "@jupyter-widgets/controls",
            "layout": "IPY_MODEL_ada8a28b144c45fd80a55a2cabaaa5ad"
          }
        },
        "a5d1ff76531b407bacdcf036cfe87542": {
          "model_module": "@jupyter-widgets/controls",
          "model_name": "ProgressStyleModel",
          "state": {
            "_view_name": "StyleView",
            "_model_name": "ProgressStyleModel",
            "description_width": "initial",
            "_view_module": "@jupyter-widgets/base",
            "_model_module_version": "1.5.0",
            "_view_count": null,
            "_view_module_version": "1.2.0",
            "bar_color": null,
            "_model_module": "@jupyter-widgets/controls"
          }
        },
        "75ceb6f8f64e41f2a5da4e66632a9eaa": {
          "model_module": "@jupyter-widgets/base",
          "model_name": "LayoutModel",
          "state": {
            "_view_name": "LayoutView",
            "grid_template_rows": null,
            "right": null,
            "justify_content": null,
            "_view_module": "@jupyter-widgets/base",
            "overflow": null,
            "_model_module_version": "1.2.0",
            "_view_count": null,
            "flex_flow": null,
            "width": null,
            "min_width": null,
            "border": null,
            "align_items": null,
            "bottom": null,
            "_model_module": "@jupyter-widgets/base",
            "top": null,
            "grid_column": null,
            "overflow_y": null,
            "overflow_x": null,
            "grid_auto_flow": null,
            "grid_area": null,
            "grid_template_columns": null,
            "flex": null,
            "_model_name": "LayoutModel",
            "justify_items": null,
            "grid_row": null,
            "max_height": null,
            "align_content": null,
            "visibility": null,
            "align_self": null,
            "height": null,
            "min_height": null,
            "padding": null,
            "grid_auto_rows": null,
            "grid_gap": null,
            "max_width": null,
            "order": null,
            "_view_module_version": "1.2.0",
            "grid_template_areas": null,
            "object_position": null,
            "object_fit": null,
            "grid_auto_columns": null,
            "margin": null,
            "display": null,
            "left": null
          }
        },
        "edc15df22a3b4143a9aa8e449e7f6cad": {
          "model_module": "@jupyter-widgets/controls",
          "model_name": "DescriptionStyleModel",
          "state": {
            "_view_name": "StyleView",
            "_model_name": "DescriptionStyleModel",
            "description_width": "",
            "_view_module": "@jupyter-widgets/base",
            "_model_module_version": "1.5.0",
            "_view_count": null,
            "_view_module_version": "1.2.0",
            "_model_module": "@jupyter-widgets/controls"
          }
        },
        "ada8a28b144c45fd80a55a2cabaaa5ad": {
          "model_module": "@jupyter-widgets/base",
          "model_name": "LayoutModel",
          "state": {
            "_view_name": "LayoutView",
            "grid_template_rows": null,
            "right": null,
            "justify_content": null,
            "_view_module": "@jupyter-widgets/base",
            "overflow": null,
            "_model_module_version": "1.2.0",
            "_view_count": null,
            "flex_flow": null,
            "width": null,
            "min_width": null,
            "border": null,
            "align_items": null,
            "bottom": null,
            "_model_module": "@jupyter-widgets/base",
            "top": null,
            "grid_column": null,
            "overflow_y": null,
            "overflow_x": null,
            "grid_auto_flow": null,
            "grid_area": null,
            "grid_template_columns": null,
            "flex": null,
            "_model_name": "LayoutModel",
            "justify_items": null,
            "grid_row": null,
            "max_height": null,
            "align_content": null,
            "visibility": null,
            "align_self": null,
            "height": null,
            "min_height": null,
            "padding": null,
            "grid_auto_rows": null,
            "grid_gap": null,
            "max_width": null,
            "order": null,
            "_view_module_version": "1.2.0",
            "grid_template_areas": null,
            "object_position": null,
            "object_fit": null,
            "grid_auto_columns": null,
            "margin": null,
            "display": null,
            "left": null
          }
        },
        "aa466028e8d1492fbadf0f205f70ae65": {
          "model_module": "@jupyter-widgets/controls",
          "model_name": "HBoxModel",
          "state": {
            "_view_name": "HBoxView",
            "_dom_classes": [],
            "_model_name": "HBoxModel",
            "_view_module": "@jupyter-widgets/controls",
            "_model_module_version": "1.5.0",
            "_view_count": null,
            "_view_module_version": "1.5.0",
            "box_style": "",
            "layout": "IPY_MODEL_30afdac71ead4372b2de7fae9ac7609b",
            "_model_module": "@jupyter-widgets/controls",
            "children": [
              "IPY_MODEL_2a06b1207d774ed186f34c522224469f",
              "IPY_MODEL_67c31df5794e41adb60b9557d24e9a96"
            ]
          }
        },
        "30afdac71ead4372b2de7fae9ac7609b": {
          "model_module": "@jupyter-widgets/base",
          "model_name": "LayoutModel",
          "state": {
            "_view_name": "LayoutView",
            "grid_template_rows": null,
            "right": null,
            "justify_content": null,
            "_view_module": "@jupyter-widgets/base",
            "overflow": null,
            "_model_module_version": "1.2.0",
            "_view_count": null,
            "flex_flow": null,
            "width": null,
            "min_width": null,
            "border": null,
            "align_items": null,
            "bottom": null,
            "_model_module": "@jupyter-widgets/base",
            "top": null,
            "grid_column": null,
            "overflow_y": null,
            "overflow_x": null,
            "grid_auto_flow": null,
            "grid_area": null,
            "grid_template_columns": null,
            "flex": null,
            "_model_name": "LayoutModel",
            "justify_items": null,
            "grid_row": null,
            "max_height": null,
            "align_content": null,
            "visibility": null,
            "align_self": null,
            "height": null,
            "min_height": null,
            "padding": null,
            "grid_auto_rows": null,
            "grid_gap": null,
            "max_width": null,
            "order": null,
            "_view_module_version": "1.2.0",
            "grid_template_areas": null,
            "object_position": null,
            "object_fit": null,
            "grid_auto_columns": null,
            "margin": null,
            "display": null,
            "left": null
          }
        },
        "2a06b1207d774ed186f34c522224469f": {
          "model_module": "@jupyter-widgets/controls",
          "model_name": "IntProgressModel",
          "state": {
            "_view_name": "ProgressView",
            "style": "IPY_MODEL_d0fb6fedfc0a41fcb1a6508f0ac81f62",
            "_dom_classes": [],
            "description": "Downloading",
            "_model_name": "IntProgressModel",
            "bar_style": "success",
            "max": 1143436263,
            "_view_module": "@jupyter-widgets/controls",
            "_model_module_version": "1.5.0",
            "value": 1143436263,
            "_view_count": null,
            "_view_module_version": "1.5.0",
            "orientation": "horizontal",
            "min": 0,
            "description_tooltip": null,
            "_model_module": "@jupyter-widgets/controls",
            "layout": "IPY_MODEL_3bb747910b2b404284a744d57a46eef9"
          }
        },
        "67c31df5794e41adb60b9557d24e9a96": {
          "model_module": "@jupyter-widgets/controls",
          "model_name": "HTMLModel",
          "state": {
            "_view_name": "HTMLView",
            "style": "IPY_MODEL_88b627a9f6d448e58f2ebf652742a55e",
            "_dom_classes": [],
            "description": "",
            "_model_name": "HTMLModel",
            "placeholder": "​",
            "_view_module": "@jupyter-widgets/controls",
            "_model_module_version": "1.5.0",
            "value": "100% 1.14G/1.14G [00:21&lt;00:00, 52.8MB/s]",
            "_view_count": null,
            "_view_module_version": "1.5.0",
            "description_tooltip": null,
            "_model_module": "@jupyter-widgets/controls",
            "layout": "IPY_MODEL_ee247dc6cc634d28aab17f150a4eaa35"
          }
        },
        "d0fb6fedfc0a41fcb1a6508f0ac81f62": {
          "model_module": "@jupyter-widgets/controls",
          "model_name": "ProgressStyleModel",
          "state": {
            "_view_name": "StyleView",
            "_model_name": "ProgressStyleModel",
            "description_width": "initial",
            "_view_module": "@jupyter-widgets/base",
            "_model_module_version": "1.5.0",
            "_view_count": null,
            "_view_module_version": "1.2.0",
            "bar_color": null,
            "_model_module": "@jupyter-widgets/controls"
          }
        },
        "3bb747910b2b404284a744d57a46eef9": {
          "model_module": "@jupyter-widgets/base",
          "model_name": "LayoutModel",
          "state": {
            "_view_name": "LayoutView",
            "grid_template_rows": null,
            "right": null,
            "justify_content": null,
            "_view_module": "@jupyter-widgets/base",
            "overflow": null,
            "_model_module_version": "1.2.0",
            "_view_count": null,
            "flex_flow": null,
            "width": null,
            "min_width": null,
            "border": null,
            "align_items": null,
            "bottom": null,
            "_model_module": "@jupyter-widgets/base",
            "top": null,
            "grid_column": null,
            "overflow_y": null,
            "overflow_x": null,
            "grid_auto_flow": null,
            "grid_area": null,
            "grid_template_columns": null,
            "flex": null,
            "_model_name": "LayoutModel",
            "justify_items": null,
            "grid_row": null,
            "max_height": null,
            "align_content": null,
            "visibility": null,
            "align_self": null,
            "height": null,
            "min_height": null,
            "padding": null,
            "grid_auto_rows": null,
            "grid_gap": null,
            "max_width": null,
            "order": null,
            "_view_module_version": "1.2.0",
            "grid_template_areas": null,
            "object_position": null,
            "object_fit": null,
            "grid_auto_columns": null,
            "margin": null,
            "display": null,
            "left": null
          }
        },
        "88b627a9f6d448e58f2ebf652742a55e": {
          "model_module": "@jupyter-widgets/controls",
          "model_name": "DescriptionStyleModel",
          "state": {
            "_view_name": "StyleView",
            "_model_name": "DescriptionStyleModel",
            "description_width": "",
            "_view_module": "@jupyter-widgets/base",
            "_model_module_version": "1.5.0",
            "_view_count": null,
            "_view_module_version": "1.2.0",
            "_model_module": "@jupyter-widgets/controls"
          }
        },
        "ee247dc6cc634d28aab17f150a4eaa35": {
          "model_module": "@jupyter-widgets/base",
          "model_name": "LayoutModel",
          "state": {
            "_view_name": "LayoutView",
            "grid_template_rows": null,
            "right": null,
            "justify_content": null,
            "_view_module": "@jupyter-widgets/base",
            "overflow": null,
            "_model_module_version": "1.2.0",
            "_view_count": null,
            "flex_flow": null,
            "width": null,
            "min_width": null,
            "border": null,
            "align_items": null,
            "bottom": null,
            "_model_module": "@jupyter-widgets/base",
            "top": null,
            "grid_column": null,
            "overflow_y": null,
            "overflow_x": null,
            "grid_auto_flow": null,
            "grid_area": null,
            "grid_template_columns": null,
            "flex": null,
            "_model_name": "LayoutModel",
            "justify_items": null,
            "grid_row": null,
            "max_height": null,
            "align_content": null,
            "visibility": null,
            "align_self": null,
            "height": null,
            "min_height": null,
            "padding": null,
            "grid_auto_rows": null,
            "grid_gap": null,
            "max_width": null,
            "order": null,
            "_view_module_version": "1.2.0",
            "grid_template_areas": null,
            "object_position": null,
            "object_fit": null,
            "grid_auto_columns": null,
            "margin": null,
            "display": null,
            "left": null
          }
        }
      }
    }
  },
  "cells": [
    {
      "cell_type": "code",
      "metadata": {
        "id": "ho05YnlP5bYD",
        "colab_type": "code",
        "outputId": "618f251d-08cc-4533-9f4c-e014312bb321",
        "colab": {
          "base_uri": "https://localhost:8080/",
          "height": 658
        }
      },
      "source": [
        "pip install transformers"
      ],
      "execution_count": 0,
      "outputs": [
        {
          "output_type": "stream",
          "text": [
            "Collecting transformers\n",
            "\u001b[?25l  Downloading https://files.pythonhosted.org/packages/13/33/ffb67897a6985a7b7d8e5e7878c3628678f553634bd3836404fef06ef19b/transformers-2.5.1-py3-none-any.whl (499kB)\n",
            "\r\u001b[K     |▋                               | 10kB 15.1MB/s eta 0:00:01\r\u001b[K     |█▎                              | 20kB 1.8MB/s eta 0:00:01\r\u001b[K     |██                              | 30kB 2.6MB/s eta 0:00:01\r\u001b[K     |██▋                             | 40kB 1.7MB/s eta 0:00:01\r\u001b[K     |███▎                            | 51kB 2.0MB/s eta 0:00:01\r\u001b[K     |████                            | 61kB 2.4MB/s eta 0:00:01\r\u001b[K     |████▋                           | 71kB 2.6MB/s eta 0:00:01\r\u001b[K     |█████▎                          | 81kB 2.8MB/s eta 0:00:01\r\u001b[K     |██████                          | 92kB 3.1MB/s eta 0:00:01\r\u001b[K     |██████▋                         | 102kB 2.8MB/s eta 0:00:01\r\u001b[K     |███████▏                        | 112kB 2.8MB/s eta 0:00:01\r\u001b[K     |███████▉                        | 122kB 2.8MB/s eta 0:00:01\r\u001b[K     |████████▌                       | 133kB 2.8MB/s eta 0:00:01\r\u001b[K     |█████████▏                      | 143kB 2.8MB/s eta 0:00:01\r\u001b[K     |█████████▉                      | 153kB 2.8MB/s eta 0:00:01\r\u001b[K     |██████████▌                     | 163kB 2.8MB/s eta 0:00:01\r\u001b[K     |███████████▏                    | 174kB 2.8MB/s eta 0:00:01\r\u001b[K     |███████████▉                    | 184kB 2.8MB/s eta 0:00:01\r\u001b[K     |████████████▌                   | 194kB 2.8MB/s eta 0:00:01\r\u001b[K     |█████████████▏                  | 204kB 2.8MB/s eta 0:00:01\r\u001b[K     |█████████████▉                  | 215kB 2.8MB/s eta 0:00:01\r\u001b[K     |██████████████▍                 | 225kB 2.8MB/s eta 0:00:01\r\u001b[K     |███████████████                 | 235kB 2.8MB/s eta 0:00:01\r\u001b[K     |███████████████▊                | 245kB 2.8MB/s eta 0:00:01\r\u001b[K     |████████████████▍               | 256kB 2.8MB/s eta 0:00:01\r\u001b[K     |█████████████████               | 266kB 2.8MB/s eta 0:00:01\r\u001b[K     |█████████████████▊              | 276kB 2.8MB/s eta 0:00:01\r\u001b[K     |██████████████████▍             | 286kB 2.8MB/s eta 0:00:01\r\u001b[K     |███████████████████             | 296kB 2.8MB/s eta 0:00:01\r\u001b[K     |███████████████████▊            | 307kB 2.8MB/s eta 0:00:01\r\u001b[K     |████████████████████▍           | 317kB 2.8MB/s eta 0:00:01\r\u001b[K     |█████████████████████           | 327kB 2.8MB/s eta 0:00:01\r\u001b[K     |█████████████████████▋          | 337kB 2.8MB/s eta 0:00:01\r\u001b[K     |██████████████████████▎         | 348kB 2.8MB/s eta 0:00:01\r\u001b[K     |███████████████████████         | 358kB 2.8MB/s eta 0:00:01\r\u001b[K     |███████████████████████▋        | 368kB 2.8MB/s eta 0:00:01\r\u001b[K     |████████████████████████▎       | 378kB 2.8MB/s eta 0:00:01\r\u001b[K     |█████████████████████████       | 389kB 2.8MB/s eta 0:00:01\r\u001b[K     |█████████████████████████▋      | 399kB 2.8MB/s eta 0:00:01\r\u001b[K     |██████████████████████████▎     | 409kB 2.8MB/s eta 0:00:01\r\u001b[K     |███████████████████████████     | 419kB 2.8MB/s eta 0:00:01\r\u001b[K     |███████████████████████████▋    | 430kB 2.8MB/s eta 0:00:01\r\u001b[K     |████████████████████████████▏   | 440kB 2.8MB/s eta 0:00:01\r\u001b[K     |████████████████████████████▉   | 450kB 2.8MB/s eta 0:00:01\r\u001b[K     |█████████████████████████████▌  | 460kB 2.8MB/s eta 0:00:01\r\u001b[K     |██████████████████████████████▏ | 471kB 2.8MB/s eta 0:00:01\r\u001b[K     |██████████████████████████████▉ | 481kB 2.8MB/s eta 0:00:01\r\u001b[K     |███████████████████████████████▌| 491kB 2.8MB/s eta 0:00:01\r\u001b[K     |████████████████████████████████| 501kB 2.8MB/s \n",
            "\u001b[?25hRequirement already satisfied: numpy in /usr/local/lib/python3.6/dist-packages (from transformers) (1.17.5)\n",
            "Collecting sentencepiece\n",
            "\u001b[?25l  Downloading https://files.pythonhosted.org/packages/74/f4/2d5214cbf13d06e7cb2c20d84115ca25b53ea76fa1f0ade0e3c9749de214/sentencepiece-0.1.85-cp36-cp36m-manylinux1_x86_64.whl (1.0MB)\n",
            "\u001b[K     |████████████████████████████████| 1.0MB 23.9MB/s \n",
            "\u001b[?25hCollecting tokenizers==0.5.2\n",
            "\u001b[?25l  Downloading https://files.pythonhosted.org/packages/d1/3f/73c881ea4723e43c1e9acf317cf407fab3a278daab3a69c98dcac511c04f/tokenizers-0.5.2-cp36-cp36m-manylinux1_x86_64.whl (3.7MB)\n",
            "\u001b[K     |████████████████████████████████| 3.7MB 36.3MB/s \n",
            "\u001b[?25hRequirement already satisfied: tqdm>=4.27 in /usr/local/lib/python3.6/dist-packages (from transformers) (4.28.1)\n",
            "Requirement already satisfied: boto3 in /usr/local/lib/python3.6/dist-packages (from transformers) (1.11.15)\n",
            "Requirement already satisfied: requests in /usr/local/lib/python3.6/dist-packages (from transformers) (2.21.0)\n",
            "Requirement already satisfied: regex!=2019.12.17 in /usr/local/lib/python3.6/dist-packages (from transformers) (2019.12.20)\n",
            "Collecting sacremoses\n",
            "\u001b[?25l  Downloading https://files.pythonhosted.org/packages/a6/b4/7a41d630547a4afd58143597d5a49e07bfd4c42914d8335b2a5657efc14b/sacremoses-0.0.38.tar.gz (860kB)\n",
            "\u001b[K     |████████████████████████████████| 870kB 31.0MB/s \n",
            "\u001b[?25hRequirement already satisfied: filelock in /usr/local/lib/python3.6/dist-packages (from transformers) (3.0.12)\n",
            "Requirement already satisfied: s3transfer<0.4.0,>=0.3.0 in /usr/local/lib/python3.6/dist-packages (from boto3->transformers) (0.3.3)\n",
            "Requirement already satisfied: botocore<1.15.0,>=1.14.15 in /usr/local/lib/python3.6/dist-packages (from boto3->transformers) (1.14.15)\n",
            "Requirement already satisfied: jmespath<1.0.0,>=0.7.1 in /usr/local/lib/python3.6/dist-packages (from boto3->transformers) (0.9.4)\n",
            "Requirement already satisfied: urllib3<1.25,>=1.21.1 in /usr/local/lib/python3.6/dist-packages (from requests->transformers) (1.24.3)\n",
            "Requirement already satisfied: idna<2.9,>=2.5 in /usr/local/lib/python3.6/dist-packages (from requests->transformers) (2.8)\n",
            "Requirement already satisfied: certifi>=2017.4.17 in /usr/local/lib/python3.6/dist-packages (from requests->transformers) (2019.11.28)\n",
            "Requirement already satisfied: chardet<3.1.0,>=3.0.2 in /usr/local/lib/python3.6/dist-packages (from requests->transformers) (3.0.4)\n",
            "Requirement already satisfied: six in /usr/local/lib/python3.6/dist-packages (from sacremoses->transformers) (1.12.0)\n",
            "Requirement already satisfied: click in /usr/local/lib/python3.6/dist-packages (from sacremoses->transformers) (7.0)\n",
            "Requirement already satisfied: joblib in /usr/local/lib/python3.6/dist-packages (from sacremoses->transformers) (0.14.1)\n",
            "Requirement already satisfied: docutils<0.16,>=0.10 in /usr/local/lib/python3.6/dist-packages (from botocore<1.15.0,>=1.14.15->boto3->transformers) (0.15.2)\n",
            "Requirement already satisfied: python-dateutil<3.0.0,>=2.1 in /usr/local/lib/python3.6/dist-packages (from botocore<1.15.0,>=1.14.15->boto3->transformers) (2.6.1)\n",
            "Building wheels for collected packages: sacremoses\n",
            "  Building wheel for sacremoses (setup.py) ... \u001b[?25l\u001b[?25hdone\n",
            "  Created wheel for sacremoses: filename=sacremoses-0.0.38-cp36-none-any.whl size=884628 sha256=998925f805cf263e9ee0859ddfd2df7226cca79d3e22f80f3decead2be7cb6cd\n",
            "  Stored in directory: /root/.cache/pip/wheels/6d/ec/1a/21b8912e35e02741306f35f66c785f3afe94de754a0eaf1422\n",
            "Successfully built sacremoses\n",
            "Installing collected packages: sentencepiece, tokenizers, sacremoses, transformers\n",
            "Successfully installed sacremoses-0.0.38 sentencepiece-0.1.85 tokenizers-0.5.2 transformers-2.5.1\n"
          ],
          "name": "stdout"
        }
      ]
    },
    {
      "cell_type": "code",
      "metadata": {
        "id": "9OX56ekiImsc",
        "colab_type": "code",
        "colab": {}
      },
      "source": [
        ""
      ],
      "execution_count": 0,
      "outputs": []
    },
    {
      "cell_type": "code",
      "metadata": {
        "id": "qfKHplic5try",
        "colab_type": "code",
        "outputId": "289f21a3-b743-415f-8d81-2316aaf2a765",
        "colab": {
          "base_uri": "https://localhost:8080/",
          "height": 255
        }
      },
      "source": [
        "from google.colab import drive\n",
        "drive.mount('/content/gdrive')\n",
        "!git clone https://github.com/Anthony-Alridge/QualityEstimation\n",
        "%cd 'QualityEstimation'"
      ],
      "execution_count": 0,
      "outputs": [
        {
          "output_type": "stream",
          "text": [
            "Go to this URL in a browser: https://accounts.google.com/o/oauth2/auth?client_id=947318989803-6bn6qk8qdgf4n4g3pfee6491hc0brc4i.apps.googleusercontent.com&redirect_uri=urn%3aietf%3awg%3aoauth%3a2.0%3aoob&response_type=code&scope=email%20https%3a%2f%2fwww.googleapis.com%2fauth%2fdocs.test%20https%3a%2f%2fwww.googleapis.com%2fauth%2fdrive%20https%3a%2f%2fwww.googleapis.com%2fauth%2fdrive.photos.readonly%20https%3a%2f%2fwww.googleapis.com%2fauth%2fpeopleapi.readonly\n",
            "\n",
            "Enter your authorization code:\n",
            "··········\n",
            "Mounted at /content/gdrive\n",
            "Cloning into 'QualityEstimation'...\n",
            "remote: Enumerating objects: 113, done.\u001b[K\n",
            "remote: Counting objects: 100% (113/113), done.\u001b[K\n",
            "remote: Compressing objects: 100% (86/86), done.\u001b[K\n",
            "remote: Total 113 (delta 50), reused 88 (delta 27), pack-reused 0\u001b[K\n",
            "Receiving objects: 100% (113/113), 16.61 MiB | 32.02 MiB/s, done.\n",
            "Resolving deltas: 100% (50/50), done.\n",
            "/content/QualityEstimation\n"
          ],
          "name": "stdout"
        }
      ]
    },
    {
      "cell_type": "code",
      "metadata": {
        "id": "yHtD3PDT6H07",
        "colab_type": "code",
        "outputId": "0301e0eb-6cbc-472c-ae1a-4807ae58ebaf",
        "colab": {
          "base_uri": "https://localhost:8080/",
          "height": 79
        }
      },
      "source": [
        "import numpy as np\n",
        "import pandas as pd\n",
        "import torch\n",
        "import transformers as ppb\n",
        "from torch.utils import data"
      ],
      "execution_count": 0,
      "outputs": [
        {
          "output_type": "display_data",
          "data": {
            "text/html": [
              "<p style=\"color: red;\">\n",
              "The default version of TensorFlow in Colab will soon switch to TensorFlow 2.x.<br>\n",
              "We recommend you <a href=\"https://www.tensorflow.org/guide/migrate\" target=\"_blank\">upgrade</a> now \n",
              "or ensure your notebook will continue to use TensorFlow 1.x via the <code>%tensorflow_version 1.x</code> magic:\n",
              "<a href=\"https://colab.research.google.com/notebooks/tensorflow_version.ipynb\" target=\"_blank\">more info</a>.</p>\n"
            ],
            "text/plain": [
              "<IPython.core.display.HTML object>"
            ]
          },
          "metadata": {
            "tags": []
          }
        }
      ]
    },
    {
      "cell_type": "code",
      "metadata": {
        "id": "Ul4ILHox9ArR",
        "colab_type": "code",
        "colab": {}
      },
      "source": [
        "f = open('data/en-zh/train.enzh.src') # Open file on read mode\n",
        "lines_en = f.read().split(\"\\n\") # Create a list containing all lines\n",
        "f.close() # Close file\n",
        "\n",
        "f = open('data/en-zh/train.enzh.mt') # Open file on read mode\n",
        "lines_de = f.read().split(\"\\n\") # Create a list containing all lines\n",
        "f.close() # Close file\n",
        "\n",
        "f = open('data/en-zh/train.enzh.scores') # Open file on read mode\n",
        "scores = f.read().split(\"\\n\") # Create a list containing all lines\n",
        "f.close() # Close file\n",
        "\n",
        "# print(lines_de)"
      ],
      "execution_count": 0,
      "outputs": []
    },
    {
      "cell_type": "code",
      "metadata": {
        "id": "P5EhbP3f7Ma1",
        "colab_type": "code",
        "outputId": "bd40efe6-b6a2-42ee-a6f4-9dc7eb5ba4ae",
        "colab": {
          "base_uri": "https://localhost:8080/",
          "height": 114,
          "referenced_widgets": [
            "01b80b7d4ff5499791957043380bf8bb",
            "02b72780461c419d89bfbe9a111a27c5",
            "1ff0049146ab493c990321c4046df50b",
            "1b5f8b8504ef4564ba4fbcca225c15dc",
            "7995f4c85e624391b1cde25817c3cebf",
            "d689f373ca8d41729ad72dbea4f1203a",
            "cd408c3cd21a43e28d777f12508777c5",
            "aabc12feed8847f69f1e6b9a5483ad66",
            "32115904bc74425bbec521a97624a4ba",
            "2c6f425df79a45209f5d8e04977f7b56",
            "f3b341a46e0d48158b18d46be20d623b",
            "256db9efd48342f19bdd67a3bb9e7adf",
            "f9aad786b9644462acf6b5a400c61ec3",
            "bfa1ff71c4684b3fa3ca59a662a6c696",
            "bfb29097112e4c9e954768a3451fbe00",
            "31a3916318f64f75bb50c6fa98b75aa2"
          ]
        }
      },
      "source": [
        "tokeniser = ppb.XLMTokenizer.from_pretrained('xlm-mlm-17-1280')\n",
        "\n",
        "datas = []\n",
        "for i,j in zip(lines_en, lines_de):\n",
        "  if i is '':break\n",
        "  datas.append(tokeniser.encode(i,text_pair=j,max_length=80,pad_to_max_length=True))\n",
        "data_tensor = torch.LongTensor(datas)\n",
        "\n"
      ],
      "execution_count": 0,
      "outputs": [
        {
          "output_type": "display_data",
          "data": {
            "application/vnd.jupyter.widget-view+json": {
              "model_id": "01b80b7d4ff5499791957043380bf8bb",
              "version_minor": 0,
              "version_major": 2
            },
            "text/plain": [
              "HBox(children=(IntProgress(value=0, description='Downloading', max=5600090, style=ProgressStyle(description_wi…"
            ]
          },
          "metadata": {
            "tags": []
          }
        },
        {
          "output_type": "stream",
          "text": [
            "\n"
          ],
          "name": "stdout"
        },
        {
          "output_type": "display_data",
          "data": {
            "application/vnd.jupyter.widget-view+json": {
              "model_id": "32115904bc74425bbec521a97624a4ba",
              "version_minor": 0,
              "version_major": 2
            },
            "text/plain": [
              "HBox(children=(IntProgress(value=0, description='Downloading', max=2986457, style=ProgressStyle(description_wi…"
            ]
          },
          "metadata": {
            "tags": []
          }
        },
        {
          "output_type": "stream",
          "text": [
            "\n"
          ],
          "name": "stdout"
        }
      ]
    },
    {
      "cell_type": "code",
      "metadata": {
        "id": "f9tk_FKD7rOx",
        "colab_type": "code",
        "outputId": "2dadc2e7-2450-41ad-eb66-37ab66918164",
        "colab": {
          "base_uri": "https://localhost:8080/",
          "height": 1000,
          "referenced_widgets": [
            "e423be179c4b46c181a6b7c4b9b11205",
            "84c9c2955b8540c69d0363679b7824d1",
            "0afac4e810ce4280afb808ae5e968e4d",
            "2521e601cc1b46cfade2f8a2d063f7dd",
            "a5d1ff76531b407bacdcf036cfe87542",
            "75ceb6f8f64e41f2a5da4e66632a9eaa",
            "edc15df22a3b4143a9aa8e449e7f6cad",
            "ada8a28b144c45fd80a55a2cabaaa5ad",
            "aa466028e8d1492fbadf0f205f70ae65",
            "30afdac71ead4372b2de7fae9ac7609b",
            "2a06b1207d774ed186f34c522224469f",
            "67c31df5794e41adb60b9557d24e9a96",
            "d0fb6fedfc0a41fcb1a6508f0ac81f62",
            "3bb747910b2b404284a744d57a46eef9",
            "88b627a9f6d448e58f2ebf652742a55e",
            "ee247dc6cc634d28aab17f150a4eaa35"
          ]
        }
      },
      "source": [
        "model = ppb.XLMForSequenceClassification.from_pretrained('xlm-mlm-17-1280', num_labels = 1)\n",
        "model.cuda()"
      ],
      "execution_count": 0,
      "outputs": [
        {
          "output_type": "display_data",
          "data": {
            "application/vnd.jupyter.widget-view+json": {
              "model_id": "e423be179c4b46c181a6b7c4b9b11205",
              "version_minor": 0,
              "version_major": 2
            },
            "text/plain": [
              "HBox(children=(IntProgress(value=0, description='Downloading', max=10380, style=ProgressStyle(description_widt…"
            ]
          },
          "metadata": {
            "tags": []
          }
        },
        {
          "output_type": "stream",
          "text": [
            "\n"
          ],
          "name": "stdout"
        },
        {
          "output_type": "display_data",
          "data": {
            "application/vnd.jupyter.widget-view+json": {
              "model_id": "aa466028e8d1492fbadf0f205f70ae65",
              "version_minor": 0,
              "version_major": 2
            },
            "text/plain": [
              "HBox(children=(IntProgress(value=0, description='Downloading', max=1143436263, style=ProgressStyle(description…"
            ]
          },
          "metadata": {
            "tags": []
          }
        },
        {
          "output_type": "stream",
          "text": [
            "\n"
          ],
          "name": "stdout"
        },
        {
          "output_type": "execute_result",
          "data": {
            "text/plain": [
              "XLMForSequenceClassification(\n",
              "  (transformer): XLMModel(\n",
              "    (position_embeddings): Embedding(512, 1280)\n",
              "    (embeddings): Embedding(200000, 1280, padding_idx=2)\n",
              "    (layer_norm_emb): LayerNorm((1280,), eps=1e-12, elementwise_affine=True)\n",
              "    (attentions): ModuleList(\n",
              "      (0): MultiHeadAttention(\n",
              "        (q_lin): Linear(in_features=1280, out_features=1280, bias=True)\n",
              "        (k_lin): Linear(in_features=1280, out_features=1280, bias=True)\n",
              "        (v_lin): Linear(in_features=1280, out_features=1280, bias=True)\n",
              "        (out_lin): Linear(in_features=1280, out_features=1280, bias=True)\n",
              "      )\n",
              "      (1): MultiHeadAttention(\n",
              "        (q_lin): Linear(in_features=1280, out_features=1280, bias=True)\n",
              "        (k_lin): Linear(in_features=1280, out_features=1280, bias=True)\n",
              "        (v_lin): Linear(in_features=1280, out_features=1280, bias=True)\n",
              "        (out_lin): Linear(in_features=1280, out_features=1280, bias=True)\n",
              "      )\n",
              "      (2): MultiHeadAttention(\n",
              "        (q_lin): Linear(in_features=1280, out_features=1280, bias=True)\n",
              "        (k_lin): Linear(in_features=1280, out_features=1280, bias=True)\n",
              "        (v_lin): Linear(in_features=1280, out_features=1280, bias=True)\n",
              "        (out_lin): Linear(in_features=1280, out_features=1280, bias=True)\n",
              "      )\n",
              "      (3): MultiHeadAttention(\n",
              "        (q_lin): Linear(in_features=1280, out_features=1280, bias=True)\n",
              "        (k_lin): Linear(in_features=1280, out_features=1280, bias=True)\n",
              "        (v_lin): Linear(in_features=1280, out_features=1280, bias=True)\n",
              "        (out_lin): Linear(in_features=1280, out_features=1280, bias=True)\n",
              "      )\n",
              "      (4): MultiHeadAttention(\n",
              "        (q_lin): Linear(in_features=1280, out_features=1280, bias=True)\n",
              "        (k_lin): Linear(in_features=1280, out_features=1280, bias=True)\n",
              "        (v_lin): Linear(in_features=1280, out_features=1280, bias=True)\n",
              "        (out_lin): Linear(in_features=1280, out_features=1280, bias=True)\n",
              "      )\n",
              "      (5): MultiHeadAttention(\n",
              "        (q_lin): Linear(in_features=1280, out_features=1280, bias=True)\n",
              "        (k_lin): Linear(in_features=1280, out_features=1280, bias=True)\n",
              "        (v_lin): Linear(in_features=1280, out_features=1280, bias=True)\n",
              "        (out_lin): Linear(in_features=1280, out_features=1280, bias=True)\n",
              "      )\n",
              "      (6): MultiHeadAttention(\n",
              "        (q_lin): Linear(in_features=1280, out_features=1280, bias=True)\n",
              "        (k_lin): Linear(in_features=1280, out_features=1280, bias=True)\n",
              "        (v_lin): Linear(in_features=1280, out_features=1280, bias=True)\n",
              "        (out_lin): Linear(in_features=1280, out_features=1280, bias=True)\n",
              "      )\n",
              "      (7): MultiHeadAttention(\n",
              "        (q_lin): Linear(in_features=1280, out_features=1280, bias=True)\n",
              "        (k_lin): Linear(in_features=1280, out_features=1280, bias=True)\n",
              "        (v_lin): Linear(in_features=1280, out_features=1280, bias=True)\n",
              "        (out_lin): Linear(in_features=1280, out_features=1280, bias=True)\n",
              "      )\n",
              "      (8): MultiHeadAttention(\n",
              "        (q_lin): Linear(in_features=1280, out_features=1280, bias=True)\n",
              "        (k_lin): Linear(in_features=1280, out_features=1280, bias=True)\n",
              "        (v_lin): Linear(in_features=1280, out_features=1280, bias=True)\n",
              "        (out_lin): Linear(in_features=1280, out_features=1280, bias=True)\n",
              "      )\n",
              "      (9): MultiHeadAttention(\n",
              "        (q_lin): Linear(in_features=1280, out_features=1280, bias=True)\n",
              "        (k_lin): Linear(in_features=1280, out_features=1280, bias=True)\n",
              "        (v_lin): Linear(in_features=1280, out_features=1280, bias=True)\n",
              "        (out_lin): Linear(in_features=1280, out_features=1280, bias=True)\n",
              "      )\n",
              "      (10): MultiHeadAttention(\n",
              "        (q_lin): Linear(in_features=1280, out_features=1280, bias=True)\n",
              "        (k_lin): Linear(in_features=1280, out_features=1280, bias=True)\n",
              "        (v_lin): Linear(in_features=1280, out_features=1280, bias=True)\n",
              "        (out_lin): Linear(in_features=1280, out_features=1280, bias=True)\n",
              "      )\n",
              "      (11): MultiHeadAttention(\n",
              "        (q_lin): Linear(in_features=1280, out_features=1280, bias=True)\n",
              "        (k_lin): Linear(in_features=1280, out_features=1280, bias=True)\n",
              "        (v_lin): Linear(in_features=1280, out_features=1280, bias=True)\n",
              "        (out_lin): Linear(in_features=1280, out_features=1280, bias=True)\n",
              "      )\n",
              "      (12): MultiHeadAttention(\n",
              "        (q_lin): Linear(in_features=1280, out_features=1280, bias=True)\n",
              "        (k_lin): Linear(in_features=1280, out_features=1280, bias=True)\n",
              "        (v_lin): Linear(in_features=1280, out_features=1280, bias=True)\n",
              "        (out_lin): Linear(in_features=1280, out_features=1280, bias=True)\n",
              "      )\n",
              "      (13): MultiHeadAttention(\n",
              "        (q_lin): Linear(in_features=1280, out_features=1280, bias=True)\n",
              "        (k_lin): Linear(in_features=1280, out_features=1280, bias=True)\n",
              "        (v_lin): Linear(in_features=1280, out_features=1280, bias=True)\n",
              "        (out_lin): Linear(in_features=1280, out_features=1280, bias=True)\n",
              "      )\n",
              "      (14): MultiHeadAttention(\n",
              "        (q_lin): Linear(in_features=1280, out_features=1280, bias=True)\n",
              "        (k_lin): Linear(in_features=1280, out_features=1280, bias=True)\n",
              "        (v_lin): Linear(in_features=1280, out_features=1280, bias=True)\n",
              "        (out_lin): Linear(in_features=1280, out_features=1280, bias=True)\n",
              "      )\n",
              "      (15): MultiHeadAttention(\n",
              "        (q_lin): Linear(in_features=1280, out_features=1280, bias=True)\n",
              "        (k_lin): Linear(in_features=1280, out_features=1280, bias=True)\n",
              "        (v_lin): Linear(in_features=1280, out_features=1280, bias=True)\n",
              "        (out_lin): Linear(in_features=1280, out_features=1280, bias=True)\n",
              "      )\n",
              "    )\n",
              "    (layer_norm1): ModuleList(\n",
              "      (0): LayerNorm((1280,), eps=1e-12, elementwise_affine=True)\n",
              "      (1): LayerNorm((1280,), eps=1e-12, elementwise_affine=True)\n",
              "      (2): LayerNorm((1280,), eps=1e-12, elementwise_affine=True)\n",
              "      (3): LayerNorm((1280,), eps=1e-12, elementwise_affine=True)\n",
              "      (4): LayerNorm((1280,), eps=1e-12, elementwise_affine=True)\n",
              "      (5): LayerNorm((1280,), eps=1e-12, elementwise_affine=True)\n",
              "      (6): LayerNorm((1280,), eps=1e-12, elementwise_affine=True)\n",
              "      (7): LayerNorm((1280,), eps=1e-12, elementwise_affine=True)\n",
              "      (8): LayerNorm((1280,), eps=1e-12, elementwise_affine=True)\n",
              "      (9): LayerNorm((1280,), eps=1e-12, elementwise_affine=True)\n",
              "      (10): LayerNorm((1280,), eps=1e-12, elementwise_affine=True)\n",
              "      (11): LayerNorm((1280,), eps=1e-12, elementwise_affine=True)\n",
              "      (12): LayerNorm((1280,), eps=1e-12, elementwise_affine=True)\n",
              "      (13): LayerNorm((1280,), eps=1e-12, elementwise_affine=True)\n",
              "      (14): LayerNorm((1280,), eps=1e-12, elementwise_affine=True)\n",
              "      (15): LayerNorm((1280,), eps=1e-12, elementwise_affine=True)\n",
              "    )\n",
              "    (ffns): ModuleList(\n",
              "      (0): TransformerFFN(\n",
              "        (lin1): Linear(in_features=1280, out_features=5120, bias=True)\n",
              "        (lin2): Linear(in_features=5120, out_features=1280, bias=True)\n",
              "      )\n",
              "      (1): TransformerFFN(\n",
              "        (lin1): Linear(in_features=1280, out_features=5120, bias=True)\n",
              "        (lin2): Linear(in_features=5120, out_features=1280, bias=True)\n",
              "      )\n",
              "      (2): TransformerFFN(\n",
              "        (lin1): Linear(in_features=1280, out_features=5120, bias=True)\n",
              "        (lin2): Linear(in_features=5120, out_features=1280, bias=True)\n",
              "      )\n",
              "      (3): TransformerFFN(\n",
              "        (lin1): Linear(in_features=1280, out_features=5120, bias=True)\n",
              "        (lin2): Linear(in_features=5120, out_features=1280, bias=True)\n",
              "      )\n",
              "      (4): TransformerFFN(\n",
              "        (lin1): Linear(in_features=1280, out_features=5120, bias=True)\n",
              "        (lin2): Linear(in_features=5120, out_features=1280, bias=True)\n",
              "      )\n",
              "      (5): TransformerFFN(\n",
              "        (lin1): Linear(in_features=1280, out_features=5120, bias=True)\n",
              "        (lin2): Linear(in_features=5120, out_features=1280, bias=True)\n",
              "      )\n",
              "      (6): TransformerFFN(\n",
              "        (lin1): Linear(in_features=1280, out_features=5120, bias=True)\n",
              "        (lin2): Linear(in_features=5120, out_features=1280, bias=True)\n",
              "      )\n",
              "      (7): TransformerFFN(\n",
              "        (lin1): Linear(in_features=1280, out_features=5120, bias=True)\n",
              "        (lin2): Linear(in_features=5120, out_features=1280, bias=True)\n",
              "      )\n",
              "      (8): TransformerFFN(\n",
              "        (lin1): Linear(in_features=1280, out_features=5120, bias=True)\n",
              "        (lin2): Linear(in_features=5120, out_features=1280, bias=True)\n",
              "      )\n",
              "      (9): TransformerFFN(\n",
              "        (lin1): Linear(in_features=1280, out_features=5120, bias=True)\n",
              "        (lin2): Linear(in_features=5120, out_features=1280, bias=True)\n",
              "      )\n",
              "      (10): TransformerFFN(\n",
              "        (lin1): Linear(in_features=1280, out_features=5120, bias=True)\n",
              "        (lin2): Linear(in_features=5120, out_features=1280, bias=True)\n",
              "      )\n",
              "      (11): TransformerFFN(\n",
              "        (lin1): Linear(in_features=1280, out_features=5120, bias=True)\n",
              "        (lin2): Linear(in_features=5120, out_features=1280, bias=True)\n",
              "      )\n",
              "      (12): TransformerFFN(\n",
              "        (lin1): Linear(in_features=1280, out_features=5120, bias=True)\n",
              "        (lin2): Linear(in_features=5120, out_features=1280, bias=True)\n",
              "      )\n",
              "      (13): TransformerFFN(\n",
              "        (lin1): Linear(in_features=1280, out_features=5120, bias=True)\n",
              "        (lin2): Linear(in_features=5120, out_features=1280, bias=True)\n",
              "      )\n",
              "      (14): TransformerFFN(\n",
              "        (lin1): Linear(in_features=1280, out_features=5120, bias=True)\n",
              "        (lin2): Linear(in_features=5120, out_features=1280, bias=True)\n",
              "      )\n",
              "      (15): TransformerFFN(\n",
              "        (lin1): Linear(in_features=1280, out_features=5120, bias=True)\n",
              "        (lin2): Linear(in_features=5120, out_features=1280, bias=True)\n",
              "      )\n",
              "    )\n",
              "    (layer_norm2): ModuleList(\n",
              "      (0): LayerNorm((1280,), eps=1e-12, elementwise_affine=True)\n",
              "      (1): LayerNorm((1280,), eps=1e-12, elementwise_affine=True)\n",
              "      (2): LayerNorm((1280,), eps=1e-12, elementwise_affine=True)\n",
              "      (3): LayerNorm((1280,), eps=1e-12, elementwise_affine=True)\n",
              "      (4): LayerNorm((1280,), eps=1e-12, elementwise_affine=True)\n",
              "      (5): LayerNorm((1280,), eps=1e-12, elementwise_affine=True)\n",
              "      (6): LayerNorm((1280,), eps=1e-12, elementwise_affine=True)\n",
              "      (7): LayerNorm((1280,), eps=1e-12, elementwise_affine=True)\n",
              "      (8): LayerNorm((1280,), eps=1e-12, elementwise_affine=True)\n",
              "      (9): LayerNorm((1280,), eps=1e-12, elementwise_affine=True)\n",
              "      (10): LayerNorm((1280,), eps=1e-12, elementwise_affine=True)\n",
              "      (11): LayerNorm((1280,), eps=1e-12, elementwise_affine=True)\n",
              "      (12): LayerNorm((1280,), eps=1e-12, elementwise_affine=True)\n",
              "      (13): LayerNorm((1280,), eps=1e-12, elementwise_affine=True)\n",
              "      (14): LayerNorm((1280,), eps=1e-12, elementwise_affine=True)\n",
              "      (15): LayerNorm((1280,), eps=1e-12, elementwise_affine=True)\n",
              "    )\n",
              "  )\n",
              "  (sequence_summary): SequenceSummary(\n",
              "    (summary): Linear(in_features=1280, out_features=1, bias=True)\n",
              "    (activation): Identity()\n",
              "    (first_dropout): Dropout(p=0.1, inplace=False)\n",
              "    (last_dropout): Identity()\n",
              "  )\n",
              ")"
            ]
          },
          "metadata": {
            "tags": []
          },
          "execution_count": 6
        }
      ]
    },
    {
      "cell_type": "code",
      "metadata": {
        "id": "YGnGoiqoEIhq",
        "colab_type": "code",
        "colab": {}
      },
      "source": [
        "scores_ls = []\n",
        "for s in scores:\n",
        "  if s is None or s is '':break\n",
        "  scores_ls.append(float(s))\n",
        "\n",
        "labels = torch.FloatTensor(scores_ls)"
      ],
      "execution_count": 0,
      "outputs": []
    },
    {
      "cell_type": "code",
      "metadata": {
        "id": "TljkhcysE3jL",
        "colab_type": "code",
        "outputId": "5be97b21-4cfa-4514-cf33-58c6933309e4",
        "colab": {
          "base_uri": "https://localhost:8080/",
          "height": 50
        }
      },
      "source": [
        "print(labels.shape)\n",
        "print(data_tensor.shape)\n"
      ],
      "execution_count": 0,
      "outputs": [
        {
          "output_type": "stream",
          "text": [
            "torch.Size([7000])\n",
            "torch.Size([7000, 80])\n"
          ],
          "name": "stdout"
        }
      ]
    },
    {
      "cell_type": "code",
      "metadata": {
        "id": "VDKUDYnlM64_",
        "colab_type": "code",
        "colab": {}
      },
      "source": [
        "my_dataset = data.TensorDataset(data_tensor,labels) # create your datset\n",
        "my_dataloader = data.DataLoader(my_dataset,batch_size=16,shuffle=True) "
      ],
      "execution_count": 0,
      "outputs": []
    },
    {
      "cell_type": "code",
      "metadata": {
        "id": "bDHgbvnnC0i6",
        "colab_type": "code",
        "outputId": "f740518c-fc61-47d1-dcb8-95381b928414",
        "colab": {
          "base_uri": "https://localhost:8080/",
          "height": 689
        }
      },
      "source": [
        "epochs=4\n",
        "device=torch.device('cuda')\n",
        "dtype = torch.long\n",
        "print_every = 100\n",
        "optimizer = torch.optim.Adamax(model.parameters())\n",
        "for e in range(epochs):\n",
        "        for t, (x, y) in enumerate(my_dataloader):\n",
        "            model.train()  # put model to training mode\n",
        "            x = x.to(device=device, dtype=dtype)  # move to device, e.g. GPU\n",
        "            y = y.to(device=device, dtype=torch.float)\n",
        "            outputs = model(x, labels=y)\n",
        "            loss = outputs[0]\n",
        "            optimizer.zero_grad()\n",
        "\n",
        "            loss.backward()\n",
        "\n",
        "            # Update the parameters of the model using the gradients\n",
        "            optimizer.step()\n",
        "\n",
        "            if t % print_every == 0:\n",
        "                print('Epoch: %d, Iteration %d, loss = %.4f' % (e, t, loss.item()))\n",
        "                #check_accuracy(loader_val, model)\n",
        "                print()"
      ],
      "execution_count": 0,
      "outputs": [
        {
          "output_type": "stream",
          "text": [
            "Epoch: 0, Iteration 0, loss = 7.9367\n",
            "\n",
            "Epoch: 0, Iteration 100, loss = 1.5231\n",
            "\n",
            "Epoch: 0, Iteration 200, loss = 0.7764\n",
            "\n",
            "Epoch: 0, Iteration 300, loss = 0.7333\n",
            "\n",
            "Epoch: 0, Iteration 400, loss = 1.3336\n",
            "\n",
            "Epoch: 1, Iteration 0, loss = 1.5593\n",
            "\n",
            "Epoch: 1, Iteration 100, loss = 0.4731\n",
            "\n",
            "Epoch: 1, Iteration 200, loss = 1.0369\n",
            "\n",
            "Epoch: 1, Iteration 300, loss = 1.1033\n",
            "\n",
            "Epoch: 1, Iteration 400, loss = 0.7140\n",
            "\n",
            "Epoch: 2, Iteration 0, loss = 0.9062\n",
            "\n",
            "Epoch: 2, Iteration 100, loss = 0.5071\n",
            "\n",
            "Epoch: 2, Iteration 200, loss = 0.6626\n",
            "\n",
            "Epoch: 2, Iteration 300, loss = 0.5763\n",
            "\n",
            "Epoch: 2, Iteration 400, loss = 1.4720\n",
            "\n",
            "Epoch: 3, Iteration 0, loss = 0.9058\n",
            "\n",
            "Epoch: 3, Iteration 100, loss = 0.9620\n",
            "\n",
            "Epoch: 3, Iteration 200, loss = 0.7114\n",
            "\n",
            "Epoch: 3, Iteration 300, loss = 0.6973\n",
            "\n",
            "Epoch: 3, Iteration 400, loss = 0.7578\n",
            "\n"
          ],
          "name": "stdout"
        }
      ]
    },
    {
      "cell_type": "code",
      "metadata": {
        "id": "jh1LzwFzGRd8",
        "colab_type": "code",
        "outputId": "eb0b3c3f-4927-4887-d36e-e03e86fdb6ae",
        "colab": {
          "base_uri": "https://localhost:8080/",
          "height": 34
        }
      },
      "source": [
        "from google.colab import drive\n",
        "drive.mount('/content/drive')"
      ],
      "execution_count": 0,
      "outputs": [
        {
          "output_type": "stream",
          "text": [
            "Mounted at /content/drive\n"
          ],
          "name": "stdout"
        }
      ]
    },
    {
      "cell_type": "code",
      "metadata": {
        "id": "8Nil7DknNtyT",
        "colab_type": "code",
        "outputId": "3570d48c-c130-4fa2-d922-569d486742c9",
        "colab": {
          "base_uri": "https://localhost:8080/",
          "height": 84
        }
      },
      "source": [
        "path = '/content/drive/My Drive/NLP Chinese Models/xlm_17/'\n",
        "model.save_pretrained(path)  # save\n",
        "tokeniser.save_pretrained(path)  # save"
      ],
      "execution_count": 0,
      "outputs": [
        {
          "output_type": "execute_result",
          "data": {
            "text/plain": [
              "('/content/drive/My Drive/NLP Chinese Models/xlm_17/vocab.json',\n",
              " '/content/drive/My Drive/NLP Chinese Models/xlm_17/merges.txt',\n",
              " '/content/drive/My Drive/NLP Chinese Models/xlm_17/special_tokens_map.json',\n",
              " '/content/drive/My Drive/NLP Chinese Models/xlm_17/added_tokens.json')"
            ]
          },
          "metadata": {
            "tags": []
          },
          "execution_count": 12
        }
      ]
    },
    {
      "cell_type": "code",
      "metadata": {
        "id": "F4q458rdeMIC",
        "colab_type": "code",
        "colab": {}
      },
      "source": [
        ""
      ],
      "execution_count": 0,
      "outputs": []
    }
  ]
}